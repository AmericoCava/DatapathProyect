{
 "cells": [
  {
   "cell_type": "code",
   "execution_count": 5,
   "id": "6a5c7a7d-1654-4080-b64c-88c14f00eae7",
   "metadata": {
    "tags": []
   },
   "outputs": [
    {
     "name": "stdout",
     "output_type": "stream",
     "text": [
      "DB CONNECTED\n"
     ]
    }
   ],
   "source": [
    "import mysql.connector\n",
    "\n",
    "connection = mysql.connector.connect(\n",
    "    user='root', password='itguymichal', host='mysql', port=\"3306\", database =' datapath4')\n",
    "print(\"DB CONNECTED\")\n"
   ]
  },
  {
   "cell_type": "code",
   "execution_count": 4,
   "id": "358037ba-29a1-4156-a4b9-bfddfe7c7d9f",
   "metadata": {
    "tags": []
   },
   "outputs": [
    {
     "name": "stdout",
     "output_type": "stream",
     "text": [
      "[(1, 'a', 'asaaa'), (2, 'ddd', 'aaaa')]\n"
     ]
    }
   ],
   "source": [
    "cursor = connection.cursor()\n",
    "cursor.execute(\"select * from students\")\n",
    "students = cursor.fetchall()\n",
    "connection.close()\n",
    "\n",
    "print(students)"
   ]
  },
  {
   "cell_type": "code",
   "execution_count": 3,
   "id": "a664d86f-b932-44b0-87a3-3cc2388cedb6",
   "metadata": {
    "tags": []
   },
   "outputs": [],
   "source": [
    "from pymongo import MongoClient"
   ]
  },
  {
   "cell_type": "code",
   "execution_count": 6,
   "id": "d4f52c23-9deb-4426-8ced-36b21fa73dfe",
   "metadata": {
    "tags": []
   },
   "outputs": [],
   "source": [
    "import pymongo\n",
    "client = pymongo.MongoClient(\"localhost\", 27017)\n",
    "db = client.test\n"
   ]
  },
  {
   "cell_type": "code",
   "execution_count": 6,
   "id": "1b8caaf3-877f-459a-9608-a7050692fb68",
   "metadata": {
    "tags": []
   },
   "outputs": [
    {
     "data": {
      "text/plain": [
       "'test'"
      ]
     },
     "execution_count": 6,
     "metadata": {},
     "output_type": "execute_result"
    }
   ],
   "source": [
    "db.name\n"
   ]
  },
  {
   "cell_type": "code",
   "execution_count": 7,
   "id": "96861558-4e79-4771-99f9-84d09c3ed155",
   "metadata": {
    "tags": []
   },
   "outputs": [
    {
     "data": {
      "text/plain": [
       "Collection(Database(MongoClient(host=['localhost:27017'], document_class=dict, tz_aware=False, connect=True), 'test'), 'my_collection')"
      ]
     },
     "execution_count": 7,
     "metadata": {},
     "output_type": "execute_result"
    }
   ],
   "source": [
    "db.my_collection"
   ]
  }
 ],
 "metadata": {
  "kernelspec": {
   "display_name": "Python 3 (ipykernel)",
   "language": "python",
   "name": "python3"
  },
  "language_info": {
   "codemirror_mode": {
    "name": "ipython",
    "version": 3
   },
   "file_extension": ".py",
   "mimetype": "text/x-python",
   "name": "python",
   "nbconvert_exporter": "python",
   "pygments_lexer": "ipython3",
   "version": "3.9.16"
  }
 },
 "nbformat": 4,
 "nbformat_minor": 5
}
